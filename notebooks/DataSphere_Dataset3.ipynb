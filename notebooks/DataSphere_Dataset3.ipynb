{
 "cells": [
  {
   "cell_type": "markdown",
   "metadata": {},
   "source": [
    "# [Nicholas Yim, Aseef Durrani]\n",
    "# Dataset \\#3 - Energy Consumption Clustering\n",
    "---"
   ]
  }
 ],
 "metadata": {
  "language_info": {
   "name": "python"
  }
 },
 "nbformat": 4,
 "nbformat_minor": 2
}
