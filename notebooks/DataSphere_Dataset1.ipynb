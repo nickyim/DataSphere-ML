{
 "cells": [
  {
   "cell_type": "markdown",
   "metadata": {},
   "source": [
    "# [Nicholas Yim, Aseef Durrani]\n",
    "# Dataset \\#1 - S&P 500 Regression\n",
    "---"
   ]
  }
 ],
 "metadata": {
  "language_info": {
   "name": "python"
  }
 },
 "nbformat": 4,
 "nbformat_minor": 2
}
