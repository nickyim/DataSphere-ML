{
 "cells": [
  {
   "cell_type": "markdown",
   "metadata": {},
   "source": [
    "# [Nicholas Yim, Aseef Durrani]\n",
    "# Dataset \\#2 - Brain Tumor MRI Classification\n",
    "---"
   ]
  },
  {
   "cell_type": "code",
   "execution_count": null,
   "metadata": {},
   "outputs": [],
   "source": [
    "import os\n",
    "import cv2\n",
    "import numpy as np\n",
    "import matplotlib.pyplot as plt\n",
    "from glob import glob\n",
    "\n",
    "# Path to dataset\n",
    "DATASET_PATH = \"../datasets/mri/\"\n",
    "CLASSES = [\"glioma\", \"meningioma\", \"pituitary\", \"no_tumor\"]\n",
    "\n",
    "# Load images and labels\n",
    "images, labels = [], []\n",
    "for label, cls in enumerate(CLASSES):\n",
    "    class_path = os.path.join(DATASET_PATH, cls)\n",
    "    for img_path in glob(os.path.join(class_path, \"*.jpg\")):\n",
    "        img = cv2.imread(img_path, cv2.IMREAD_GRAYSCALE)  # Load in grayscale\n",
    "        images.append(cv2.resize(img, (128, 128)))       # Resize to 128x128\n",
    "        labels.append(label)\n",
    "\n",
    "images = np.array(images)\n",
    "labels = np.array(labels)\n",
    "\n",
    "# Display dataset information\n",
    "print(f\"Number of images: {len(images)}\")\n",
    "print(f\"Image shape: {images[0].shape}\")\n",
    "print(f\"Number of labels: {len(labels)}\")\n"
   ]
  }
 ],
 "metadata": {
  "kernelspec": {
   "display_name": "venv",
   "language": "python",
   "name": "python3"
  },
  "language_info": {
   "name": "python",
   "version": "3.12.2"
  }
 },
 "nbformat": 4,
 "nbformat_minor": 2
}
